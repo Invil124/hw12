{
 "cells": [
  {
   "cell_type": "code",
   "execution_count": 1,
   "id": "952be02a",
   "metadata": {},
   "outputs": [],
   "source": [
    "import nltk\n",
    "\n",
    "text = '''\n",
    "The Orbiter Discovery, OV-103, is considered eligible for listing in the National Register of Historic Places (NRHP) in the context of the U.S. Space Shuttle Program (1969-2011) under Criterion A in the areas of Space Exploration and Transportation and under Criterion C in the area of Engineering. Because it has achieved significance within the past fifty years, Criteria Consideration G applies. Under Criterion A, Discovery is significant as the oldest of the three extant orbiter vehicles constructed for the Space Shuttle Program (SSP), the longest running American space program to date; she was the third of five orbiters built by NASA. Unlike the Mercury, Gemini, and Apollo programs, the SSP’s emphasis was on cost effectiveness and reusability, and eventually the construction of a space station. Including her maiden voyage (launched August 30, 1984), Discovery flew to space thirty-nine times, more than any of the other four orbiters; she was also the first orbiter to fly twenty missions. She had the honor of being chosen as the Return to Flight vehicle after both the Challenger and Columbia accidents. Discovery was the first shuttle to fly with the redesigned SRBs, a result of the Challenger accident, and the first shuttle to fly with the Phase II and Block I SSME. Discovery also carried the Hubble Space Telescope to orbit and performed two of the five servicing missions to the observatory. She flew the first and last dedicated Department of Defense (DoD) missions, as well as the first unclassified defense-related mission. In addition, Discovery was vital to the construction of the International Space Station (ISS); she flew thirteen of the thirty-seven total missions flown to the station by a U.S. Space Shuttle. She was the first orbiter to dock to the ISS, and the first to perform an exchange of a resident crew. Under Criterion C, Discovery is significant as a feat of engineering. According to Wayne Hale, a flight director from Johnson Space Center, the Space Shuttle orbiter represents a “huge technological leap from expendable rockets and capsules to a reusable, winged, hypersonic, cargo-carrying spacecraft.” Although her base structure followed a conventional aircraft design, she used advanced materials that both minimized her weight for cargo-carrying purposes and featured low thermal expansion ratios, which provided a stable base for her Thermal Protection System (TPS) materials. The Space Shuttle orbiter also featured the first reusable TPS; all previous spaceflight vehicles had a single-use, ablative heat shield. Other notable engineering achievements of the orbiter included the first reusable orbital propulsion system, and the first two-fault-tolerant Integrated Avionics System. As Hale stated, the Space Shuttle remains “the largest, fastest, winged hypersonic aircraft in history,” having regularly flown at twenty-five times the speed of sound.\n",
    "'''"
   ]
  },
  {
   "cell_type": "code",
   "execution_count": 2,
   "id": "5961cc93",
   "metadata": {},
   "outputs": [
    {
     "name": "stderr",
     "output_type": "stream",
     "text": [
      "[nltk_data] Downloading package punkt to\n",
      "[nltk_data]     C:\\Users\\yaros\\AppData\\Roaming\\nltk_data...\n",
      "[nltk_data]   Package punkt is already up-to-date!\n",
      "[nltk_data] Downloading package averaged_perceptron_tagger to\n",
      "[nltk_data]     C:\\Users\\yaros\\AppData\\Roaming\\nltk_data...\n",
      "[nltk_data]   Package averaged_perceptron_tagger is already up-to-\n",
      "[nltk_data]       date!\n"
     ]
    },
    {
     "data": {
      "text/plain": [
       "True"
      ]
     },
     "execution_count": 2,
     "metadata": {},
     "output_type": "execute_result"
    }
   ],
   "source": [
    "nltk.download('punkt')\n",
    "nltk.download('averaged_perceptron_tagger')"
   ]
  },
  {
   "cell_type": "code",
   "execution_count": 3,
   "id": "de73d3a6",
   "metadata": {
    "scrolled": true
   },
   "outputs": [],
   "source": [
    "tokens = nltk.word_tokenize(text)\n",
    "tagged_tokens = nltk.pos_tag(tokens)"
   ]
  },
  {
   "cell_type": "code",
   "execution_count": 4,
   "id": "2bde8c16",
   "metadata": {},
   "outputs": [],
   "source": [
    "sentences = nltk.sent_tokenize(text)\n",
    "heads = [pos for (word, pos) in tagged_tokens if pos.startswith('VB')]"
   ]
  },
  {
   "cell_type": "code",
   "execution_count": 5,
   "id": "83ccb532",
   "metadata": {},
   "outputs": [],
   "source": [
    "summary = [sentences[i] for i in range(len(sentences)) if tagged_tokens[i][1].startswith('VB')]"
   ]
  },
  {
   "cell_type": "code",
   "execution_count": 6,
   "id": "35014b2b",
   "metadata": {
    "scrolled": true
   },
   "outputs": [
    {
     "name": "stdout",
     "output_type": "stream",
     "text": [
      "Discovery was the first shuttle to fly with the redesigned SRBs, a result of the Challenger accident, and the first shuttle to fly with the Phase II and Block I SSME. Discovery also carried the Hubble Space Telescope to orbit and performed two of the five servicing missions to the observatory. She was the first orbiter to dock to the ISS, and the first to perform an exchange of a resident crew.\n"
     ]
    }
   ],
   "source": [
    "summary = \" \".join(summary)\n",
    "print(summary)"
   ]
  },
  {
   "cell_type": "code",
   "execution_count": 7,
   "id": "c4f604e7",
   "metadata": {},
   "outputs": [
    {
     "name": "stdout",
     "output_type": "stream",
     "text": [
      "Summarry: 397 Text: 2908\n"
     ]
    }
   ],
   "source": [
    "print(f\"Summarry: {len(summary)} Text: {len(text)}\")"
   ]
  },
  {
   "cell_type": "markdown",
   "id": "f0f9d394",
   "metadata": {},
   "source": [
    "Summarry with spacy"
   ]
  },
  {
   "cell_type": "code",
   "execution_count": 8,
   "id": "55d3251d",
   "metadata": {},
   "outputs": [],
   "source": [
    "import spacy\n",
    "from spacy.lang.en.stop_words import STOP_WORDS\n",
    "from string import punctuation\n",
    "from heapq import nlargest"
   ]
  },
  {
   "cell_type": "code",
   "execution_count": 9,
   "id": "c3970bec",
   "metadata": {},
   "outputs": [],
   "source": [
    "nlp = spacy.load(\"en_core_web_sm\")\n",
    "stopwords = list(STOP_WORDS)"
   ]
  },
  {
   "cell_type": "code",
   "execution_count": 10,
   "id": "682ddad9",
   "metadata": {},
   "outputs": [],
   "source": [
    "doc = nlp(text)"
   ]
  },
  {
   "cell_type": "code",
   "execution_count": 11,
   "id": "bd2dbd4c",
   "metadata": {},
   "outputs": [],
   "source": [
    "word_freq = {}\n",
    "for word in doc:\n",
    "    if word.text.lower() not in stopwords and word.text.lower() not in punctuation:\n",
    "        if word.text not in word_freq.keys():\n",
    "            word_freq[word.text] = 1\n",
    "        else:\n",
    "            word_freq[word.text] += 1"
   ]
  },
  {
   "cell_type": "code",
   "execution_count": 12,
   "id": "6ccdfd96",
   "metadata": {},
   "outputs": [],
   "source": [
    "max_freq = max(word_freq.values())"
   ]
  },
  {
   "cell_type": "code",
   "execution_count": 13,
   "id": "c7f31ce3",
   "metadata": {},
   "outputs": [],
   "source": [
    "for word in word_freq.keys():\n",
    "    word_freq[word] = word_freq[word]/max_freq"
   ]
  },
  {
   "cell_type": "code",
   "execution_count": 14,
   "id": "f708cde4",
   "metadata": {},
   "outputs": [],
   "source": [
    "sent_tokents = [sent for sent in doc.sents]"
   ]
  },
  {
   "cell_type": "code",
   "execution_count": 15,
   "id": "aac38528",
   "metadata": {},
   "outputs": [],
   "source": [
    "sent_scores = {}\n",
    "for sent in sent_tokents:\n",
    "    for word in sent:\n",
    "        if word.text in word_freq.keys():\n",
    "            if sent not in sent_scores.keys():\n",
    "                sent_scores[sent] = word_freq[word.text]\n",
    "            else:\n",
    "                sent_scores[sent] += word_freq[word.text]"
   ]
  },
  {
   "cell_type": "code",
   "execution_count": 16,
   "id": "2529b1cb",
   "metadata": {},
   "outputs": [],
   "source": [
    "select_len = int(len(sent_tokents)* 0.3)"
   ]
  },
  {
   "cell_type": "code",
   "execution_count": 17,
   "id": "26a076ce",
   "metadata": {
    "scrolled": true
   },
   "outputs": [],
   "source": [
    "summary_spacy = nlargest(select_len, sent_scores, key=sent_scores.get)"
   ]
  },
  {
   "cell_type": "code",
   "execution_count": 18,
   "id": "f92d8425",
   "metadata": {
    "scrolled": false
   },
   "outputs": [
    {
     "name": "stdout",
     "output_type": "stream",
     "text": [
      "\n",
      "The Orbiter Discovery, OV-103, is considered eligible for listing in the National Register of Historic Places (NRHP) in the context of the U.S. Space Shuttle Program (1969-2011) under Criterion A in the areas of Space Exploration and Transportation and under Criterion C in the area of Engineering. According to Wayne Hale, a flight director from Johnson Space Center, the Space Shuttle orbiter represents a “huge technological leap from expendable rockets and capsules to a reusable, winged, hypersonic, cargo-carrying spacecraft.” In addition, Discovery was vital to the construction of the International Space Station (ISS); she flew thirteen of the thirty-seven total missions flown to the station by a U.S. Space Shuttle. Under Criterion A, Discovery is significant as the oldest of the three extant orbiter vehicles constructed for the Space Shuttle Program (SSP), the longest running American space program to date; she was the third of five orbiters built by NASA. As Hale stated, the Space Shuttle remains “the largest, fastest, winged hypersonic aircraft in history,” having regularly flown at twenty-five times the speed of sound.\n",
      "\n"
     ]
    }
   ],
   "source": [
    "fin_summary = [word.text for word in summary_spacy]\n",
    "summary_spacy = \" \".join(fin_summary)\n",
    "print(summary_spacy)"
   ]
  },
  {
   "cell_type": "code",
   "execution_count": 21,
   "id": "05a816c1",
   "metadata": {},
   "outputs": [
    {
     "name": "stdout",
     "output_type": "stream",
     "text": [
      "Summarry: 1143 Text: 2908\n"
     ]
    }
   ],
   "source": [
    "print(f\"Summarry: {len(summary_spacy)} Text: {len(text)}\")\n"
   ]
  }
 ],
 "metadata": {
  "kernelspec": {
   "display_name": "Python 3 (ipykernel)",
   "language": "python",
   "name": "python3"
  },
  "language_info": {
   "codemirror_mode": {
    "name": "ipython",
    "version": 3
   },
   "file_extension": ".py",
   "mimetype": "text/x-python",
   "name": "python",
   "nbconvert_exporter": "python",
   "pygments_lexer": "ipython3",
   "version": "3.10.9"
  }
 },
 "nbformat": 4,
 "nbformat_minor": 5
}
